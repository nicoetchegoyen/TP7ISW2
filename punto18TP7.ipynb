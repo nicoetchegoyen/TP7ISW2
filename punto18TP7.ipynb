{
 "cells": [
  {
   "cell_type": "code",
   "execution_count": 4,
   "metadata": {},
   "outputs": [
    {
     "name": "stdout",
     "output_type": "stream",
     "text": [
      "a- El VPN del proyecto es: $4719.01\n"
     ]
    }
   ],
   "source": [
    "import numpy as np\n",
    "\n",
    "inversion_mensual = -1000 \n",
    "flujo_final = 18000       \n",
    "t_mensual = 0.01       \n",
    "meses = 12                \n",
    "\n",
    "flujos_caja = [inversion_mensual] * meses\n",
    "\n",
    "flujos_caja[-1] += flujo_final\n",
    "\n",
    "vpn = sum([flujos_caja[t] / (1 + t_mensual)**(t + 1) for t in range(meses)])\n",
    "\n",
    "print(f\"a- El VPN del proyecto es: ${vpn:.2f}\")\n"
   ]
  },
  {
   "cell_type": "code",
   "execution_count": 7,
   "metadata": {},
   "outputs": [
    {
     "name": "stdout",
     "output_type": "stream",
     "text": [
      "b- El VPN del proyecto con 3 meses mas es: $1639.24\n"
     ]
    }
   ],
   "source": [
    "import numpy as np\n",
    "\n",
    "inversion_mensual = -1000 \n",
    "flujo_final = 18000       \n",
    "t_mensual = 0.01       \n",
    "meses = 15                \n",
    "\n",
    "flujos_caja = [inversion_mensual] * meses\n",
    "\n",
    "flujos_caja[-1] += flujo_final\n",
    "\n",
    "vpn = sum([flujos_caja[t] / (1 + t_mensual)**(t + 1) for t in range(meses)])\n",
    "\n",
    "print(f\"b- El VPN del proyecto con 3 meses mas es: ${vpn:.2f}\")"
   ]
  },
  {
   "cell_type": "code",
   "execution_count": 20,
   "metadata": {},
   "outputs": [
    {
     "name": "stdout",
     "output_type": "stream",
     "text": [
      "c-\n",
      "rentabilidad para 12 meses: %41.9278\n",
      "rentabilidad para 15 meses: %11.8228\n"
     ]
    }
   ],
   "source": [
    "import numpy as np\n",
    "\n",
    "inversion_mensual = 1000   \n",
    "flujo_final = 18000        \n",
    "t_mensual = 0.01           \n",
    "meses = 12                 \n",
    "\n",
    "def calc_vpn(meses, inversion_mensual, flujo_final, t_mensual):\n",
    "    flujos_caja = [-inversion_mensual] * meses\n",
    "    flujos_caja[-1] += flujo_final \n",
    "    \n",
    "    vpn = sum([flujos_caja[t] / (1 + t_mensual)**(t + 1) for t in range(meses)])\n",
    "    return vpn\n",
    "\n",
    "def calcular_rentabilidad(meses, inversion_mensual, flujo_final, t_mensual):\n",
    "    valor_presente_inversion = sum([-inversion_mensual / (1 + t_mensual)**(t + 1) for t in range(meses)])\n",
    "    \n",
    "    vpn = calc_vpn(meses, inversion_mensual, flujo_final, t_mensual)\n",
    "    \n",
    "    rentabilidad = vpn / valor_presente_inversion\n",
    "    return rentabilidad * -100\n",
    "\n",
    "print(\"c-\")\n",
    "rent_12_meses = calcular_rentabilidad(meses, inversion_mensual, flujo_final, t_mensual)\n",
    "print(f\"rentabilidad para 12 meses: %{rent_12_meses:.4f}\")\n",
    "\n",
    "meses_retraso = 15\n",
    "rent_15_meses = calcular_rentabilidad(meses_retraso, inversion_mensual, flujo_final, t_mensual)\n",
    "print(f\"rentabilidad para 15 meses: %{rent_15_meses:.4f}\")\n"
   ]
  },
  {
   "cell_type": "code",
   "execution_count": 23,
   "metadata": {},
   "outputs": [
    {
     "name": "stdout",
     "output_type": "stream",
     "text": [
      "e- El VPN del proyecto entregado en 12 meses con el gerente de proyectos es: $4156.25\n"
     ]
    }
   ],
   "source": [
    "import numpy as np\n",
    "\n",
    "inversion_mensual = -1050 \n",
    "flujo_final = 18000       \n",
    "t_mensual = 0.01       \n",
    "meses = 12                \n",
    "\n",
    "flujos_caja = [inversion_mensual] * meses\n",
    "\n",
    "flujos_caja[-1] += flujo_final\n",
    "\n",
    "vpn = sum([flujos_caja[t] / (1 + t_mensual)**(t + 1) for t in range(meses)])\n",
    "\n",
    "print(f\"e- El VPN del proyecto entregado en 12 meses con el gerente de proyectos es: ${vpn:.2f}\")"
   ]
  },
  {
   "cell_type": "markdown",
   "metadata": {},
   "source": [
    "# Por lo tanto, tener un gerente certificado, asegurandose de que el proyecto esté terminado en 12 meses, da como resultado un VPN mayor que el retraso de 3 meses sobre el mismo"
   ]
  }
 ],
 "metadata": {
  "kernelspec": {
   "display_name": "Python 3 (ipykernel)",
   "language": "python",
   "name": "python3"
  },
  "language_info": {
   "codemirror_mode": {
    "name": "ipython",
    "version": 3
   },
   "file_extension": ".py",
   "mimetype": "text/x-python",
   "name": "python",
   "nbconvert_exporter": "python",
   "pygments_lexer": "ipython3",
   "version": "3.12.0"
  }
 },
 "nbformat": 4,
 "nbformat_minor": 4
}
